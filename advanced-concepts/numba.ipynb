{
 "metadata": {
  "language_info": {
   "codemirror_mode": {
    "name": "ipython",
    "version": 3
   },
   "file_extension": ".py",
   "mimetype": "text/x-python",
   "name": "python",
   "nbconvert_exporter": "python",
   "pygments_lexer": "ipython3",
   "version": "3.8.10"
  },
  "orig_nbformat": 4,
  "kernelspec": {
   "name": "python3",
   "display_name": "Python 3.8.10 64-bit ('numba': conda)"
  },
  "interpreter": {
   "hash": "0b3835b907b6cc7d301aec5540e8a0fbdbe5019d215ce85ebb6eb02d9dcf944e"
  }
 },
 "nbformat": 4,
 "nbformat_minor": 2,
 "cells": [
  {
   "source": [
    "# Using numba package to compile functions to machine code.\n",
    "Compiling will make our function WAY faster, since machine code is basicaly the language of our processor (CPU)."
   ],
   "cell_type": "markdown",
   "metadata": {}
  },
  {
   "cell_type": "code",
   "execution_count": 15,
   "metadata": {},
   "outputs": [],
   "source": [
    "from numba import njit, int64\n",
    "import numpy as np"
   ]
  },
  {
   "source": [
    "### Let's go for some big array of this shape:"
   ],
   "cell_type": "markdown",
   "metadata": {}
  },
  {
   "cell_type": "code",
   "execution_count": 16,
   "metadata": {},
   "outputs": [],
   "source": [
    "\n",
    "ROWS, COLUMNS = 2000, 2000"
   ]
  },
  {
   "source": [
    "### TL;DR\n",
    "### - We calculate ugly shit and put the result in every cell.\n",
    "\n"
   ],
   "cell_type": "markdown",
   "metadata": {}
  },
  {
   "source": [
    "(U really don't want to read this... :) )\n",
    "\n",
    "We're gonna populate it with a pretty ugly calculations:\n",
    "- Every cell will contain a number that is:\n",
    "- a sum of a product of row number cubed and column number suqared and a product of row number and column number,\n",
    "- well... that sounds awfull, so let's write it as an equation.\n",
    "\n",
    "\n",
    "Let's call row number R, column number C, then what we get is:\n",
    "- result = ( (R^3) x (C^2) ) + ( RxC ),\n",
    "- and we put this result of this calculation in every cell, with respect to its row and column number."
   ],
   "cell_type": "markdown",
   "metadata": {}
  },
  {
   "source": [
    "### First we do it python default way - a list - and time the first run:"
   ],
   "cell_type": "markdown",
   "metadata": {}
  },
  {
   "cell_type": "code",
   "execution_count": 17,
   "metadata": {},
   "outputs": [
    {
     "output_type": "stream",
     "name": "stdout",
     "text": [
      "Wall time: 3.22 s\n"
     ]
    }
   ],
   "source": [
    "def f(x,y):\n",
    "    return [[(i**3) * (j**2) + i*j for j in range(y)] for i in range(x)]\n",
    "%time res = f(ROWS, COLUMNS)"
   ]
  },
  {
   "source": [
    "Let's check how it scores in an average of multiple runs:"
   ],
   "cell_type": "markdown",
   "metadata": {}
  },
  {
   "cell_type": "code",
   "execution_count": 18,
   "metadata": {},
   "outputs": [
    {
     "output_type": "stream",
     "name": "stdout",
     "text": [
      "2.93 s ± 110 ms per loop (mean ± std. dev. of 7 runs, 1 loop each)\n"
     ]
    }
   ],
   "source": [
    "%timeit f(ROWS, COLUMNS)"
   ]
  },
  {
   "source": [
    "### Now let's see how it works with a numpy array, and time the first run:"
   ],
   "cell_type": "markdown",
   "metadata": {}
  },
  {
   "cell_type": "code",
   "execution_count": 19,
   "metadata": {},
   "outputs": [
    {
     "output_type": "stream",
     "name": "stdout",
     "text": [
      "Wall time: 3.65 s\n"
     ]
    }
   ],
   "source": [
    "def np_f(x,y):\n",
    "    np_arrray = np.zeros(shape=(x,y), dtype=np.int64)\n",
    "    for i in range(x):\n",
    "        for j in range(y):\n",
    "            np_arrray[i,j] = (i**3) * (j**2) + i*j\n",
    "    return np_arrray\n",
    "    \n",
    "%time res = np_f(ROWS, COLUMNS)"
   ]
  },
  {
   "source": [
    "Let's check how it scores in an average of multiple runs:"
   ],
   "cell_type": "markdown",
   "metadata": {}
  },
  {
   "cell_type": "code",
   "execution_count": 20,
   "metadata": {},
   "outputs": [
    {
     "output_type": "stream",
     "name": "stdout",
     "text": [
      "3.39 s ± 64.4 ms per loop (mean ± std. dev. of 7 runs, 1 loop each)\n"
     ]
    }
   ],
   "source": [
    "%timeit np_f(ROWS, COLUMNS)"
   ]
  },
  {
   "source": [
    "### And finally let's compile our np_f() function into machine code with numba, and time it:\n",
    "(Note that first run is slower, because it actualy compiles the function at first run.)"
   ],
   "cell_type": "markdown",
   "metadata": {}
  },
  {
   "cell_type": "code",
   "execution_count": 21,
   "metadata": {},
   "outputs": [
    {
     "output_type": "stream",
     "name": "stdout",
     "text": [
      "Wall time: 419 ms\n"
     ]
    }
   ],
   "source": [
    "j_np_f = njit()(np_f)\n",
    "\n",
    "%time res = j_np_f(ROWS, COLUMNS)"
   ]
  },
  {
   "source": [
    "Notice that the first run wasn't exceptionaly fast, since it compiles the function at its first use."
   ],
   "cell_type": "markdown",
   "metadata": {}
  },
  {
   "source": [
    "And now that it's compiled into a machine code lets check how it scores in an average of multiple runs:"
   ],
   "cell_type": "markdown",
   "metadata": {}
  },
  {
   "cell_type": "code",
   "execution_count": 22,
   "metadata": {},
   "outputs": [
    {
     "output_type": "stream",
     "name": "stdout",
     "text": [
      "17 ms ± 138 µs per loop (mean ± std. dev. of 7 runs, 100 loops each)\n"
     ]
    }
   ],
   "source": [
    "%timeit j_np_f(ROWS, COLUMNS)"
   ]
  },
  {
   "source": [
    "### Wow! That's awesome! It's pretty quick in comparison with the python interpreted code. :D\n",
    "We went down from around 3 seconds per run with python list to around 17 milliseconds!"
   ],
   "cell_type": "markdown",
   "metadata": {}
  },
  {
   "source": [
    "## Conclusion:\n",
    "\n",
    "It's sometimes worth getting the code into machinve version, but u need a specific circumstances.\n",
    "\n",
    "If you're just gonna run the function ONCE, it's not really worth the effort. \n",
    "\n",
    "But if you're about to use the same, big, bulky function A LOT OF TIMES in your project\n",
    "it's worth considering compiling it!\n",
    "\n"
   ],
   "cell_type": "markdown",
   "metadata": {}
  },
  {
   "source": [
    "#### I u like to 'gotta go fast' check [these performance tips](https://numba.pydata.org/numba-doc/dev/user/performance-tips.html) on Numba documentation webpage."
   ],
   "cell_type": "markdown",
   "metadata": {}
  },
  {
   "source": [
    "## It's been fun. :) Have a nice day!"
   ],
   "cell_type": "markdown",
   "metadata": {}
  }
 ]
}