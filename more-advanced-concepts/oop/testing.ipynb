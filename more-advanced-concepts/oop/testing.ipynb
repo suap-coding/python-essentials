{
 "cells": [
  {
   "cell_type": "code",
   "execution_count": 1,
   "source": [
    "from dog import Dog\r\n",
    "from person import Person"
   ],
   "outputs": [],
   "metadata": {}
  },
  {
   "cell_type": "code",
   "execution_count": 2,
   "source": [],
   "outputs": [],
   "metadata": {}
  }
 ],
 "metadata": {
  "orig_nbformat": 4,
  "language_info": {
   "name": "python"
  }
 },
 "nbformat": 4,
 "nbformat_minor": 2
}