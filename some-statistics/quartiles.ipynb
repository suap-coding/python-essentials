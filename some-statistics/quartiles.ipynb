{
 "metadata": {
  "language_info": {
   "codemirror_mode": {
    "name": "ipython",
    "version": 3
   },
   "file_extension": ".py",
   "mimetype": "text/x-python",
   "name": "python",
   "nbconvert_exporter": "python",
   "pygments_lexer": "ipython3",
   "version": "3.8.10"
  },
  "orig_nbformat": 4,
  "kernelspec": {
   "name": "python3",
   "display_name": "Python 3.8.10 64-bit ('numba': conda)"
  },
  "interpreter": {
   "hash": "0b3835b907b6cc7d301aec5540e8a0fbdbe5019d215ce85ebb6eb02d9dcf944e"
  }
 },
 "nbformat": 4,
 "nbformat_minor": 2,
 "cells": [
  {
   "source": [
    "## Note: it's not an efficient way of doing it. It's just a WAY. And it follows the algorithm from our class. :)\n",
    "U can skip the crazy implementation of everything. At some point I'll say \"This is the real stuff!\""
   ],
   "cell_type": "markdown",
   "metadata": {}
  },
  {
   "cell_type": "code",
   "execution_count": 1,
   "metadata": {},
   "outputs": [],
   "source": [
    "# helper functions\n",
    "def convert_to_element_number(index):\n",
    "    return index+1\n",
    "\n",
    "def convert_to_index(element_number):\n",
    "    return element_number-1\n",
    "\n",
    "def is_even(number):\n",
    "    return number%2 == 0"
   ]
  },
  {
   "cell_type": "code",
   "execution_count": 2,
   "metadata": {},
   "outputs": [],
   "source": [
    "# function to get mean\n",
    "def get_mean(numerical_dataset):\n",
    "    length_of_the_dataset = len(numerical_dataset)\n",
    "    assert length_of_the_dataset >= 0\n",
    "    \n",
    "    if is_even(length_of_the_dataset):\n",
    "        nr_of_first_number = length_of_the_dataset//2\n",
    "        nr_of_second_number = length_of_the_dataset//2 + 1\n",
    "\n",
    "        index_of_first_number = convert_to_index(nr_of_first_number)\n",
    "        index_of_second_number = convert_to_index(nr_of_second_number)\n",
    "\n",
    "        first_number = numerical_dataset[index_of_first_number]\n",
    "        second_number = numerical_dataset[index_of_second_number]\n",
    "\n",
    "        mean = (first_number+second_number)/2\n",
    "\n",
    "    else:\n",
    "        nr_of_central_value = length_of_the_dataset//2 + 1\n",
    "        index_of_central_value = convert_to_index(nr_of_central_value)\n",
    "        central_value = numerical_dataset[index_of_central_value]\n",
    "\n",
    "        mean = central_value\n",
    "\n",
    "    return mean"
   ]
  },
  {
   "cell_type": "code",
   "execution_count": 3,
   "metadata": {},
   "outputs": [],
   "source": [
    "# function that divides the data set by the mean\n",
    "def divide_by_mean(dataset):\n",
    "    data_subset_1 = []\n",
    "    data_subset_2 = []\n",
    "    mean = get_mean(dataset)\n",
    "    for index in range(0, len(dataset)):\n",
    "        if dataset[index] <= mean:\n",
    "            data_subset_1.append(dataset[index])\n",
    "        else:\n",
    "            data_subset_2.append(dataset[index])\n",
    "    return data_subset_1, data_subset_2"
   ]
  },
  {
   "source": [
    "### This is the real stuff!"
   ],
   "cell_type": "markdown",
   "metadata": {}
  },
  {
   "cell_type": "code",
   "execution_count": 4,
   "metadata": {},
   "outputs": [],
   "source": [
    "# the real stuff\n",
    "def get_quartiles(numerical_dataset):    \n",
    "    sorted_set = sorted(numerical_dataset)\n",
    "    quartile_2 = get_mean(numerical_dataset)\n",
    "    subset_1, subset_2 = divide_by_mean(numerical_dataset)\n",
    "    quartile_1 = get_mean(subset_1)\n",
    "    quartile_3 = get_mean(subset_2)\n",
    "    return quartile_1, quartile_2, quartile_3"
   ]
  },
  {
   "cell_type": "code",
   "execution_count": 10,
   "metadata": {},
   "outputs": [
    {
     "output_type": "execute_result",
     "data": {
      "text/plain": [
       "(2.5, 4, 9)"
      ]
     },
     "metadata": {},
     "execution_count": 10
    }
   ],
   "source": [
    "# profit\n",
    "get_quartiles([1,7,8,2,3,6,9,4,5,10,1,2,1,4,5])"
   ]
  },
  {
   "cell_type": "code",
   "execution_count": null,
   "metadata": {},
   "outputs": [],
   "source": []
  }
 ]
}