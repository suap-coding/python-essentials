{
 "cells": [
  {
   "cell_type": "markdown",
   "metadata": {},
   "source": [
    "## Let's get the quartiles! I'll try a few diferent approaches.\r\n"
   ]
  },
  {
   "cell_type": "markdown",
   "metadata": {},
   "source": [
    "### `1` - This approach is quite bulky, but I tried to make the code as self-explanatory as possible."
   ]
  },
  {
   "cell_type": "code",
   "execution_count": 1,
   "metadata": {},
   "outputs": [],
   "source": [
    "# helper functions\n",
    "def convert_to_element_number(index):\n",
    "    return index+1\n",
    "\n",
    "def convert_to_index(element_number):\n",
    "    return element_number-1\n",
    "\n",
    "def is_even(number):\n",
    "    return number%2 == 0"
   ]
  },
  {
   "cell_type": "code",
   "execution_count": 2,
   "metadata": {},
   "outputs": [],
   "source": [
    "# function to get mean\r\n",
    "def get_mean(numerical_dataset):\r\n",
    "    length_of_the_dataset = len(numerical_dataset)\r\n",
    "    assert length_of_the_dataset >= 0\r\n",
    "    \r\n",
    "    if is_even(length_of_the_dataset):\r\n",
    "        nr_of_first_number = length_of_the_dataset//2\r\n",
    "        nr_of_second_number = length_of_the_dataset//2 + 1\r\n",
    "\r\n",
    "        index_of_first_number = convert_to_index(nr_of_first_number)\r\n",
    "        index_of_second_number = convert_to_index(nr_of_second_number)\r\n",
    "\r\n",
    "        first_number = numerical_dataset[index_of_first_number]\r\n",
    "        second_number = numerical_dataset[index_of_second_number]\r\n",
    "\r\n",
    "        mean = (first_number+second_number)/2\r\n",
    "\r\n",
    "    else:\r\n",
    "        nr_of_central_value = length_of_the_dataset//2 + 1\r\n",
    "        index_of_central_value = convert_to_index(nr_of_central_value)\r\n",
    "        central_value = numerical_dataset[index_of_central_value]\r\n",
    "\r\n",
    "        mean = central_value\r\n",
    "\r\n",
    "    return mean"
   ]
  },
  {
   "cell_type": "code",
   "execution_count": 3,
   "metadata": {},
   "outputs": [],
   "source": [
    "# function that divides the data set by the mean, but it has to be sorted...\r\n",
    "def divide_by_mean(sorted_dataset):\r\n",
    "    data_subset_1 = []\r\n",
    "    data_subset_2 = []\r\n",
    "    mean = get_mean(sorted_dataset)\r\n",
    "    for index in range(0, len(sorted_dataset)):\r\n",
    "        if sorted_dataset[index] <= mean:\r\n",
    "            data_subset_1.append(sorted_dataset[index])\r\n",
    "        else:\r\n",
    "            data_subset_2.append(sorted_dataset[index])\r\n",
    "    return data_subset_1, data_subset_2"
   ]
  },
  {
   "cell_type": "code",
   "execution_count": 4,
   "metadata": {},
   "outputs": [],
   "source": [
    "# we can also do something like this\r\n",
    "def divide_sorted_set_by_number(sorted_dataset, number):\r\n",
    "    data_subset_1 = []\r\n",
    "    data_subset_2 = []\r\n",
    "    for index in range(0, len(sorted_dataset)):\r\n",
    "        if sorted_dataset[index] <= number:\r\n",
    "            data_subset_1.append(sorted_dataset[index])\r\n",
    "        else:\r\n",
    "            data_subset_2.append(sorted_dataset[index])\r\n",
    "    return data_subset_1, data_subset_2"
   ]
  },
  {
   "cell_type": "markdown",
   "metadata": {},
   "source": [
    "Here we use everything that we've coded to actualy implement the algorithm."
   ]
  },
  {
   "cell_type": "code",
   "execution_count": 5,
   "metadata": {},
   "outputs": [],
   "source": [
    "def get_quartiles(numerical_dataset):    \r\n",
    "    sorted_set = sorted(numerical_dataset)\r\n",
    "    quartile_2 = get_mean(sorted_set)\r\n",
    "    subset_1, subset_2 = divide_sorted_set_by_number(sorted_set, quartile_2)\r\n",
    "    quartile_1 = get_mean(subset_1)\r\n",
    "    quartile_3 = get_mean(subset_2)\r\n",
    "    return quartile_1, quartile_2, quartile_3"
   ]
  },
  {
   "cell_type": "code",
   "execution_count": 6,
   "metadata": {},
   "outputs": [
    {
     "data": {
      "text/plain": [
       "(2.0, 4, 7)"
      ]
     },
     "execution_count": 6,
     "metadata": {},
     "output_type": "execute_result"
    }
   ],
   "source": [
    "get_quartiles([1,7,8,2,3,6,9,4,5,10,1,2,1,4,5])"
   ]
  },
  {
   "cell_type": "markdown",
   "metadata": {},
   "source": [
    "#### Profit!"
   ]
  },
  {
   "cell_type": "markdown",
   "metadata": {},
   "source": [
    "### `2` - Now let's do all of this in a more fasionable way. Less lines, more profit. :]"
   ]
  },
  {
   "cell_type": "code",
   "execution_count": 7,
   "metadata": {},
   "outputs": [],
   "source": [
    "def get_mean_and_divide(dataset):\r\n",
    "    ds_length = len(dataset)\r\n",
    "    assert ds_length >= 0\r\n",
    "    dataset.sort()    \r\n",
    "    middle = ds_length // 2\r\n",
    "    mean = dataset[middle]\r\n",
    "    if not ds_length%2:\r\n",
    "        mean = (mean+dataset[middle-1])/2\r\n",
    "    return [number for number in dataset if number <= mean], [number for number in dataset if number > mean], mean\r\n",
    "    "
   ]
  },
  {
   "cell_type": "code",
   "execution_count": 8,
   "metadata": {},
   "outputs": [],
   "source": [
    "def quartiles(dataset):\r\n",
    "    subset_1, subset_2, quartile_2 = get_mean_and_divide(dataset)\r\n",
    "    _, _, quartile_1 = get_mean_and_divide(subset_1)\r\n",
    "    _, _, quartile_3 = get_mean_and_divide(subset_2)\r\n",
    "    return quartile_1, quartile_2, quartile_3"
   ]
  },
  {
   "cell_type": "code",
   "execution_count": 9,
   "metadata": {},
   "outputs": [
    {
     "data": {
      "text/plain": [
       "(2.0, 4, 7)"
      ]
     },
     "execution_count": 9,
     "metadata": {},
     "output_type": "execute_result"
    }
   ],
   "source": [
    "quartiles([1,7,8,2,3,6,9,4,5,10,1,2,1,4,5])"
   ]
  },
  {
   "cell_type": "markdown",
   "metadata": {},
   "source": [
    "#### Profit!"
   ]
  },
  {
   "cell_type": "markdown",
   "metadata": {},
   "source": [
    "### `2)` We can also speed this up a bit by just adding a function that only get's the mean"
   ]
  },
  {
   "cell_type": "code",
   "execution_count": 12,
   "metadata": {},
   "outputs": [],
   "source": [
    "def mean(dataset):\r\n",
    "    ds_length = len(dataset)\r\n",
    "    assert ds_length >= 0    \r\n",
    "    dataset.sort()  # notice this for later reference \r\n",
    "    mean = dataset[ds_length // 2]\r\n",
    "    return mean if ds_length%2 else (mean+dataset[middle-1])/2"
   ]
  },
  {
   "cell_type": "markdown",
   "metadata": {},
   "source": [
    "We don't have to worry about sorting the set to divide it by the given value:"
   ]
  },
  {
   "cell_type": "code",
   "execution_count": 13,
   "metadata": {},
   "outputs": [],
   "source": [
    "def divide(dataset, division_value):\r\n",
    "    ds_length = len(dataset)\r\n",
    "    assert ds_length >= 0\r\n",
    "    return [number for number in dataset if number <= division_value], [number for number in dataset if number > division_value]"
   ]
  },
  {
   "cell_type": "markdown",
   "metadata": {},
   "source": [
    "And since our mean() function sorts the set to find the mean everything works fine here:"
   ]
  },
  {
   "cell_type": "code",
   "execution_count": 14,
   "metadata": {},
   "outputs": [],
   "source": [
    "def quartiles_(dataset):\r\n",
    "    quartile_2 = mean(dataset)\r\n",
    "    subset_1, subset_2 = divide(dataset, mean)    \r\n",
    "    return mean(subset_1), quartile_2, mean(subset_2)"
   ]
  },
  {
   "cell_type": "code",
   "execution_count": 15,
   "metadata": {},
   "outputs": [
    {
     "data": {
      "text/plain": [
       "(2.0, 4, 7)"
      ]
     },
     "execution_count": 15,
     "metadata": {},
     "output_type": "execute_result"
    }
   ],
   "source": [
    "quartiles([1,7,8,2,3,6,9,4,5,10,1,2,1,4,5])"
   ]
  },
  {
   "cell_type": "markdown",
   "metadata": {},
   "source": [
    "#### Profit!"
   ]
  },
  {
   "cell_type": "markdown",
   "metadata": {},
   "source": [
    "## So there are many ways of achieving the same task. Pick your favourite! :D"
   ]
  }
 ],
 "metadata": {
  "interpreter": {
   "hash": "0b3835b907b6cc7d301aec5540e8a0fbdbe5019d215ce85ebb6eb02d9dcf944e"
  },
  "kernelspec": {
   "display_name": "Python 3.8.10 64-bit ('numba': conda)",
   "name": "python3"
  },
  "language_info": {
   "name": "python",
   "version": ""
  },
  "orig_nbformat": 4
 },
 "nbformat": 4,
 "nbformat_minor": 2
}