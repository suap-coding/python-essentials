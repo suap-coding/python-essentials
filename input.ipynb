{
 "metadata": {
  "language_info": {
   "codemirror_mode": {
    "name": "ipython",
    "version": 3
   },
   "file_extension": ".py",
   "mimetype": "text/x-python",
   "name": "python",
   "nbconvert_exporter": "python",
   "pygments_lexer": "ipython3",
   "version": "3.9.5"
  },
  "orig_nbformat": 4,
  "kernelspec": {
   "name": "python3",
   "display_name": "Python 3.9.5 64-bit ('numpy_exercises': conda)"
  },
  "interpreter": {
   "hash": "552f261bb9557322e982b35eb32853eb4640e9314a79e86295cc8f9140b9e3d9"
  }
 },
 "nbformat": 4,
 "nbformat_minor": 2,
 "cells": [
  {
   "source": [
    "## So how input works?"
   ],
   "cell_type": "markdown",
   "metadata": {}
  },
  {
   "cell_type": "code",
   "execution_count": 1,
   "metadata": {},
   "outputs": [
    {
     "output_type": "execute_result",
     "data": {
      "text/plain": [
       "'text'"
      ]
     },
     "metadata": {},
     "execution_count": 1
    }
   ],
   "source": [
    "# well this will not even clearly tell us it wonts us to write something\n",
    "input()\n"
   ]
  },
  {
   "cell_type": "code",
   "execution_count": 2,
   "metadata": {},
   "outputs": [
    {
     "output_type": "execute_result",
     "data": {
      "text/plain": [
       "'text!'"
      ]
     },
     "metadata": {},
     "execution_count": 2
    }
   ],
   "source": [
    "# this will inform us bout it's intents\n",
    "input(\"Give me some text: \")"
   ]
  },
  {
   "cell_type": "code",
   "execution_count": 3,
   "metadata": {},
   "outputs": [
    {
     "output_type": "stream",
     "name": "stdout",
     "text": [
      "This is your text: Sexy!\n"
     ]
    }
   ],
   "source": [
    "# and this one will ever use the text we did input to do some operations\n",
    "text = input(\"Give more text!: \")\n",
    "print(\"This is your text:\", text)"
   ]
  },
  {
   "cell_type": "code",
   "execution_count": 5,
   "metadata": {},
   "outputs": [
    {
     "output_type": "stream",
     "name": "stdout",
     "text": [
      "127\n"
     ]
    }
   ],
   "source": [
    "# if you want some numbers:\n",
    "num1 = input(\"Give me the first number: \")\n",
    "num2 = input(\"Give me another number: \")\n",
    "\n",
    "result = num1+num2\n",
    "print(result)"
   ]
  },
  {
   "cell_type": "code",
   "execution_count": 6,
   "metadata": {},
   "outputs": [
    {
     "output_type": "stream",
     "name": "stdout",
     "text": [
      "49\n"
     ]
    }
   ],
   "source": [
    "# woops, we didn't get what we wanted in the cell above\n",
    "# that's because input returns a string!\n",
    "# we have to cast it to a number first :)\n",
    "num1 = int( input(\"Give me the first number: \") )\n",
    "num2 = int( input(\"Give me another number: \") )\n",
    "\n",
    "result = num1+num2\n",
    "print(result)"
   ]
  },
  {
   "source": [
    "### Well done! :)"
   ],
   "cell_type": "markdown",
   "metadata": {}
  }
 ]
}